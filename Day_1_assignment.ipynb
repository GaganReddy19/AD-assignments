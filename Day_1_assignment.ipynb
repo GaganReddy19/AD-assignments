{
  "nbformat": 4,
  "nbformat_minor": 0,
  "metadata": {
    "colab": {
      "provenance": [],
      "include_colab_link": true
    },
    "kernelspec": {
      "name": "python3",
      "display_name": "Python 3"
    },
    "language_info": {
      "name": "python"
    }
  },
  "cells": [
    {
      "cell_type": "markdown",
      "metadata": {
        "id": "view-in-github",
        "colab_type": "text"
      },
      "source": [
        "<a href=\"https://colab.research.google.com/github/GaganReddy19/AD-assignments/blob/main/Day_1_assignment.ipynb\" target=\"_parent\"><img src=\"https://colab.research.google.com/assets/colab-badge.svg\" alt=\"Open In Colab\"/></a>"
      ]
    },
    {
      "cell_type": "code",
      "execution_count": null,
      "metadata": {
        "colab": {
          "base_uri": "https://localhost:8080/"
        },
        "id": "qce84-OEwGPQ",
        "outputId": "f9a88985-54a9-4f50-a8b0-06a12520df91"
      },
      "outputs": [
        {
          "output_type": "stream",
          "name": "stdout",
          "text": [
            "Integer Variable:  10  | Type:  <class 'int'>\n",
            "Float Variable:  15.75  | Type:  <class 'float'>\n",
            "String Variable:  Hello, Jupyter Notebook!  | Type:  <class 'str'>\n",
            "Boolean Variable:  True  | Type:  <class 'bool'>\n"
          ]
        }
      ],
      "source": [
        "integer_var = 10\n",
        "float_var = 15.75\n",
        "string_var = \"Hello, Jupyter Notebook!\"\n",
        "boolean_var = True\n",
        "\n",
        "print(\"Integer Variable: \", integer_var, \" | Type: \", type(integer_var))\n",
        "print(\"Float Variable: \", float_var, \" | Type: \", type(float_var))\n",
        "print(\"String Variable: \", string_var, \" | Type: \", type(string_var))\n",
        "print(\"Boolean Variable: \", boolean_var, \" | Type: \", type(boolean_var))\n"
      ]
    }
  ]
}